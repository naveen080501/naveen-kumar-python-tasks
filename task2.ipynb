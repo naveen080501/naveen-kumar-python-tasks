{
 "cells": [
  {
   "cell_type": "code",
   "execution_count": 1,
   "metadata": {},
   "outputs": [
    {
     "name": "stdout",
     "output_type": "stream",
     "text": [
      "(0, 1, 2, 3, 4, 5, 6, 7, 8, 9)\n",
      "total: 45\n"
     ]
    }
   ],
   "source": [
    "#Create a List of Numbers\n",
    "\n",
    "list_of_number=(0,1,2,3,4,5,6,7,8,9)\n",
    "print(list_of_number)\n",
    "total_sum=sum(list_of_number)\n",
    "print(\"total:\",total_sum)"
   ]
  },
  {
   "cell_type": "code",
   "execution_count": 2,
   "metadata": {},
   "outputs": [
    {
     "name": "stdout",
     "output_type": "stream",
     "text": [
      "orginal_list : ('apple', 'banana', 'pineapple', 'papaya')\n",
      "reverse list : ('papaya', 'pineapple', 'banana', 'apple')\n"
     ]
    }
   ],
   "source": [
    "#Tuple Operations \n",
    "\n",
    "list_fruits=(\"apple\",\"banana\",\"pineapple\",\"papaya\")\n",
    "print(\"orginal_list :\", list_fruits)\n",
    "list_rereverse=list_fruits[::-1]\n",
    "print(\"reverse list :\", list_rereverse)\n"
   ]
  },
  {
   "cell_type": "code",
   "execution_count": 7,
   "metadata": {},
   "outputs": [
    {
     "name": "stdout",
     "output_type": "stream",
     "text": [
      "Student Grades:\n",
      "Alice: 90\n",
      "Bob: 85\n",
      "Charlie: 95\n"
     ]
    }
   ],
   "source": [
    "#Dictionary: Student Grades\n",
    "\n",
    "student_grades = {}\n",
    "student_grades['Alice'] = 90\n",
    "student_grades['Bob'] = 78\n",
    "\n",
    "#update grade\n",
    "\n",
    "student_grades['Bob'] = 85\n",
    "student_grades['Charlie'] = 95\n",
    "print(\"Student Grades:\")\n",
    "for student, grade in student_grades.items():\n",
    "    print(f\"{student}: {grade}\")\n",
    "\n"
   ]
  },
  {
   "cell_type": "code",
   "execution_count": 3,
   "metadata": {},
   "outputs": [
    {
     "name": "stdout",
     "output_type": "stream",
     "text": [
      "[1, 2, 3, 3, 4, 5, 5, 6, 7, 8, 9, 9]\n",
      "{1, 2, 3, 4, 5, 6, 7, 8, 9}\n"
     ]
    }
   ],
   "source": [
    "#Set Operations: Unique Elements\n",
    "\n",
    "org_list=[1,2,3,3,4,5,5,6,7,8,9,9]\n",
    "print(org_list)\n",
    "remove_dup=set(org_list)\n",
    "print(remove_dup)"
   ]
  },
  {
   "cell_type": "code",
   "execution_count": 4,
   "metadata": {},
   "outputs": [
    {
     "name": "stdout",
     "output_type": "stream",
     "text": [
      "List of squares: [1, 4, 9, 16, 25, 36, 49, 64, 81, 100]\n"
     ]
    }
   ],
   "source": [
    "#List Comprehension\n",
    "\n",
    "squares = [x**2 for x in range(1, 11)]\n",
    "print(\"List of squares:\", squares)\n"
   ]
  },
  {
   "cell_type": "code",
   "execution_count": 2,
   "metadata": {},
   "outputs": [
    {
     "name": "stdout",
     "output_type": "stream",
     "text": [
      "(['Alice', 85, 'Bob', 90, 'Charlie', 78, 'David', 92], ['Alice', 20, 'Bob', 22, 'Charlie', 21, 'David', 23])\n"
     ]
    }
   ],
   "source": [
    "#Merge Two Dictionaries\n",
    "\n",
    "grades_dict = [    'Alice', 85,    'Bob',  90,    'Charlie', 78,    'David', 92]\n",
    "ages_dict = [    'Alice', 20,    'Bob', 22,    'Charlie', 21,    'David', 23]\n",
    "merged_dict=( grades_dict, ages_dict)\n",
    "print(merged_dict)"
   ]
  },
  {
   "cell_type": "code",
   "execution_count": 18,
   "metadata": {},
   "outputs": [
    {
     "name": "stdout",
     "output_type": "stream",
     "text": [
      "Intersection: {5}\n",
      "union: {1, 2, 3, 4, 5, 6, 7, 8, 9}\n"
     ]
    }
   ],
   "source": [
    "#Set Intersection and Union\n",
    "\n",
    "set1 = {1, 2, 3, 4,5 }\n",
    "set2 = {5, 6, 7, 8, 9}\n",
    "intersection = set1 & set2\n",
    "print(\"Intersection:\", intersection)\n",
    "\n",
    "unoin= set1 | set2\n",
    "print(\"union:\", unoin)\n"
   ]
  },
  {
   "cell_type": "code",
   "execution_count": 20,
   "metadata": {},
   "outputs": [
    {
     "name": "stdout",
     "output_type": "stream",
     "text": [
      "{'naveen': 90, 'kumar': 95, 'krishna': 99}\n"
     ]
    }
   ],
   "source": [
    "#List to Dictionary Conversion\n",
    "    \n",
    "student_ng= [(\"naveen\",90), (\"kumar\",95), (\"krishna\",99)]\n",
    "dic_con=dict(student_ng)\n",
    "print(dic_con)"
   ]
  },
  {
   "cell_type": "code",
   "execution_count": 3,
   "metadata": {},
   "outputs": [
    {
     "name": "stdout",
     "output_type": "stream",
     "text": [
      "Name: Naveen\n",
      "Age: 24\n",
      "City: Hyderabad\n"
     ]
    }
   ],
   "source": [
    "#Unpacking Tuples\n",
    "\n",
    "person_details = (\"Naveen\", 24, \"Hyderabad\")\n",
    "name, age, city = person_details\n",
    "print(\"Name:\", name)\n",
    "print(\"Age:\", age)\n",
    "print(\"City:\", city)"
   ]
  },
  {
   "cell_type": "code",
   "execution_count": 6,
   "metadata": {},
   "outputs": [
    {
     "name": "stdout",
     "output_type": "stream",
     "text": [
      "Grades for Alice: {'Math': 90, 'Science': 85, 'History': 78}\n"
     ]
    }
   ],
   "source": [
    "# Create the classroom dictionary\n",
    "\n",
    "\n",
    "classroom = {'Alice': {'Math': 90, 'Science': 85, 'History': 78},'Bob': {'Math': 78, 'Science': 92, 'History': 88}}\n",
    "\n",
    "student_name = 'Alice'\n",
    "alice_grades = classroom.get(student_name)\n",
    "if alice_grades:\n",
    "    print(f\"Grades for {student_name}: {alice_grades}\")\n",
    "else:\n",
    "    print(f\"{student_name} not found in the classroom.\")\n"
   ]
  }
 ],
 "metadata": {
  "kernelspec": {
   "display_name": "Python 3",
   "language": "python",
   "name": "python3"
  },
  "language_info": {
   "codemirror_mode": {
    "name": "ipython",
    "version": 3
   },
   "file_extension": ".py",
   "mimetype": "text/x-python",
   "name": "python",
   "nbconvert_exporter": "python",
   "pygments_lexer": "ipython3",
   "version": "3.12.5"
  }
 },
 "nbformat": 4,
 "nbformat_minor": 2
}
